{
 "cells": [
  {
   "cell_type": "code",
   "execution_count": 23,
   "id": "5d84ac85",
   "metadata": {},
   "outputs": [],
   "source": [
    "class Meyve():\n",
    "    \n",
    "    def __init__(self,isim,kalori):\n",
    "        self.isim = isim\n",
    "        self.kalori = kalori\n",
    "        \n",
    "    def __str__(self):\n",
    "        return f\"{self.isim} şu kadar kaloriye sahptir: {self.kalori}\"\n",
    "    \n",
    "    def __len__(self):\n",
    "        return self.kalori"
   ]
  },
  {
   "cell_type": "code",
   "execution_count": 24,
   "id": "2a5911cb",
   "metadata": {},
   "outputs": [],
   "source": [
    "muz = Meyve(\"Muz\",150)"
   ]
  },
  {
   "cell_type": "code",
   "execution_count": 25,
   "id": "0fabf83e",
   "metadata": {},
   "outputs": [
    {
     "data": {
      "text/plain": [
       "150"
      ]
     },
     "execution_count": 25,
     "metadata": {},
     "output_type": "execute_result"
    }
   ],
   "source": [
    "muz.kalori"
   ]
  },
  {
   "cell_type": "code",
   "execution_count": 26,
   "id": "8ac94eb8",
   "metadata": {},
   "outputs": [
    {
     "name": "stdout",
     "output_type": "stream",
     "text": [
      "Muz şu kadar kaloriye sahptir: 150\n"
     ]
    }
   ],
   "source": [
    "print(muz)"
   ]
  },
  {
   "cell_type": "code",
   "execution_count": 27,
   "id": "04b12496",
   "metadata": {},
   "outputs": [],
   "source": [
    "benimListem = [1,2,3,\"a\",4.5]"
   ]
  },
  {
   "cell_type": "code",
   "execution_count": 28,
   "id": "ec0716f8",
   "metadata": {},
   "outputs": [
    {
     "name": "stdout",
     "output_type": "stream",
     "text": [
      "[1, 2, 3, 'a', 4.5]\n"
     ]
    }
   ],
   "source": [
    "print(benimListem)"
   ]
  },
  {
   "cell_type": "code",
   "execution_count": 29,
   "id": "129cb229",
   "metadata": {},
   "outputs": [
    {
     "data": {
      "text/plain": [
       "5"
      ]
     },
     "execution_count": 29,
     "metadata": {},
     "output_type": "execute_result"
    }
   ],
   "source": [
    "len(benimListem)"
   ]
  },
  {
   "cell_type": "code",
   "execution_count": 30,
   "id": "5698ccee",
   "metadata": {},
   "outputs": [
    {
     "data": {
      "text/plain": [
       "150"
      ]
     },
     "execution_count": 30,
     "metadata": {},
     "output_type": "execute_result"
    }
   ],
   "source": [
    "len(muz)"
   ]
  },
  {
   "cell_type": "code",
   "execution_count": 31,
   "id": "06a0babd",
   "metadata": {},
   "outputs": [],
   "source": [
    "elma = Meyve(\"Elma\", 200)"
   ]
  },
  {
   "cell_type": "code",
   "execution_count": 32,
   "id": "6d829ea2",
   "metadata": {},
   "outputs": [
    {
     "data": {
      "text/plain": [
       "200"
      ]
     },
     "execution_count": 32,
     "metadata": {},
     "output_type": "execute_result"
    }
   ],
   "source": [
    "len(elma)"
   ]
  },
  {
   "cell_type": "code",
   "execution_count": 33,
   "id": "5c227c21",
   "metadata": {},
   "outputs": [
    {
     "name": "stdout",
     "output_type": "stream",
     "text": [
      "Elma şu kadar kaloriye sahptir: 200\n"
     ]
    }
   ],
   "source": [
    "print(elma)"
   ]
  },
  {
   "cell_type": "code",
   "execution_count": null,
   "id": "c9e17682",
   "metadata": {},
   "outputs": [],
   "source": []
  }
 ],
 "metadata": {
  "kernelspec": {
   "display_name": "Python 3 (ipykernel)",
   "language": "python",
   "name": "python3"
  },
  "language_info": {
   "codemirror_mode": {
    "name": "ipython",
    "version": 3
   },
   "file_extension": ".py",
   "mimetype": "text/x-python",
   "name": "python",
   "nbconvert_exporter": "python",
   "pygments_lexer": "ipython3",
   "version": "3.9.7"
  }
 },
 "nbformat": 4,
 "nbformat_minor": 5
}
