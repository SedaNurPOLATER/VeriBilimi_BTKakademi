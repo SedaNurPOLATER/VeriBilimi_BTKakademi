{
 "cells": [
  {
   "cell_type": "code",
   "execution_count": 19,
   "id": "96e5e594",
   "metadata": {},
   "outputs": [],
   "source": [
    "import numpy as np\n",
    "import matplotlib.pyplot as pyt\n",
    "from matplotlib import pyplot as plt\n",
    "\n",
    "%matplotlib inline"
   ]
  },
  {
   "cell_type": "code",
   "execution_count": 20,
   "id": "deb90bb5",
   "metadata": {},
   "outputs": [],
   "source": [
    "numpyDizisi1=np.linspace(0,10,20)"
   ]
  },
  {
   "cell_type": "code",
   "execution_count": 21,
   "id": "603a9852",
   "metadata": {},
   "outputs": [
    {
     "data": {
      "text/plain": [
       "array([ 0.        ,  0.52631579,  1.05263158,  1.57894737,  2.10526316,\n",
       "        2.63157895,  3.15789474,  3.68421053,  4.21052632,  4.73684211,\n",
       "        5.26315789,  5.78947368,  6.31578947,  6.84210526,  7.36842105,\n",
       "        7.89473684,  8.42105263,  8.94736842,  9.47368421, 10.        ])"
      ]
     },
     "execution_count": 21,
     "metadata": {},
     "output_type": "execute_result"
    }
   ],
   "source": [
    "numpyDizisi1"
   ]
  },
  {
   "cell_type": "code",
   "execution_count": 22,
   "id": "7735baf3",
   "metadata": {},
   "outputs": [],
   "source": [
    "numpyDizisi2=numpyDizisi1**2"
   ]
  },
  {
   "cell_type": "code",
   "execution_count": 23,
   "id": "fac09470",
   "metadata": {},
   "outputs": [
    {
     "data": {
      "text/plain": [
       "[<matplotlib.lines.Line2D at 0x28953cdf070>]"
      ]
     },
     "execution_count": 23,
     "metadata": {},
     "output_type": "execute_result"
    },
    {
     "data": {
      "image/png": "[encoded data removed]",
      "text/plain": [
       "<Figure size 432x288 with 1 Axes>"
      ]
     },
     "metadata": {
      "needs_background": "light"
     },
     "output_type": "display_data"
    }
   ],
   "source": [
    "(benimFigur,benimEksen)=pyt.subplots()\n",
    "benimEksen.plot(numpyDizisi1,numpyDizisi2,\"#3A95A8\",alpha=0.3)\n",
    "benimEksen.plot(numpyDizisi2,numpyDizisi1,\"#c96F23\")"
   ]
  },
  {
   "cell_type": "code",
   "execution_count": null,
   "id": "f6aaaa4b",
   "metadata": {},
   "outputs": [],
   "source": [
    "(yeniFigur, yeniEksen)=plt.subplots()\n",
    "yeniEksen.plot(numpyDizisi1, numpyDizisi1+2, color=\"blue\",linewidth=1.0)\n",
    "yeniEksen.plot(numpyDizisi1, numpyDizisi1+3,color=\"yellow\",linewidth=1.0)\n",
    "\n",
    "yeniEksen.plot(numpyDizisi1, numpyDizisi1+4,color=\"#C96F23\",linestyle=\"-.\")\n",
    "yeniEksen.plot(numpyDizisi1, numpyDizisi1+5,color=\"#C96F23\",linestyle=\":\")\n",
    "yeniEksen.plot(numpyDizisi1, numpyDizisi1+6,color=\"#C96F23\",linestyle=\"--\")\n",
    "\n",
    "yeniEksen.plot(numpyDizisi1, numpyDizisi1+7,color=\"#000000\",linestyle=\"--\", marker=\"o\",markersize=\"8\",markerfacecolor=\"red\")\n",
    "yeniEksen.plot(numpyDizisi1, numpyDizisi1+7,color=\"#000000\",linestyle=\"--\", marker=\"+\",markersize=\"4\",)"
   ]
  },
  {
   "cell_type": "markdown",
   "id": "36158ed8",
   "metadata": {},
   "source": [
    "## scatter\n"
   ]
  },
  {
   "cell_type": "code",
   "execution_count": 41,
   "id": "209343a7",
   "metadata": {},
   "outputs": [
    {
     "data": {
      "text/plain": [
       "<matplotlib.collections.PathCollection at 0x28955432af0>"
      ]
     },
     "execution_count": 41,
     "metadata": {},
     "output_type": "execute_result"
    },
    {
     "data": {
      "image/png": "[encoded data removed]",
      "text/plain": [
       "<Figure size 432x288 with 1 Axes>"
      ]
     },
     "metadata": {
      "needs_background": "light"
     },
     "output_type": "display_data"
    }
   ],
   "source": [
    "plt.scatter(numpyDizisi1,numpyDizisi2)"
   ]
  },
  {
   "cell_type": "markdown",
   "id": "3fca9da4",
   "metadata": {},
   "source": [
    "## histogram"
   ]
  },
  {
   "cell_type": "code",
   "execution_count": 42,
   "id": "d4dfbcdb",
   "metadata": {},
   "outputs": [],
   "source": [
    "yeniDizi=np.random.randint(0,100,50)"
   ]
  },
  {
   "cell_type": "code",
   "execution_count": 43,
   "id": "77c7f212",
   "metadata": {},
   "outputs": [
    {
     "data": {
      "text/plain": [
       "array([80, 59, 19, 53, 39, 97, 96, 59,  7, 24, 77, 92, 67, 98, 35, 96,  2,\n",
       "       94, 69, 96, 52, 29, 34, 50, 92, 82, 79, 21, 96,  3, 10, 89, 78, 47,\n",
       "       45, 64, 26, 86, 87, 46, 34, 90, 62, 42,  8, 88,  5, 48, 52, 37])"
      ]
     },
     "execution_count": 43,
     "metadata": {},
     "output_type": "execute_result"
    }
   ],
   "source": [
    "yeniDizi"
   ]
  },
  {
   "cell_type": "code",
   "execution_count": 44,
   "id": "9a9bc386",
   "metadata": {},
   "outputs": [
    {
     "data": {
      "text/plain": [
       "(array([ 6.,  2.,  3.,  5.,  5.,  6.,  4.,  2.,  6., 11.]),\n",
       " array([ 2. , 11.6, 21.2, 30.8, 40.4, 50. , 59.6, 69.2, 78.8, 88.4, 98. ]),\n",
       " <BarContainer object of 10 artists>)"
      ]
     },
     "execution_count": 44,
     "metadata": {},
     "output_type": "execute_result"
    },
    {
     "data": {
      "image/png": "[encoded data removed]",
      "text/plain": [
       "<Figure size 432x288 with 1 Axes>"
      ]
     },
     "metadata": {
      "needs_background": "light"
     },
     "output_type": "display_data"
    }
   ],
   "source": [
    "plt.hist(yeniDizi)"
   ]
  },
  {
   "cell_type": "markdown",
   "id": "521f870d",
   "metadata": {},
   "source": [
    "## boxplot"
   ]
  },
  {
   "cell_type": "code",
   "execution_count": 46,
   "id": "9482acd1",
   "metadata": {},
   "outputs": [
    {
     "data": {
      "text/plain": [
       "{'whiskers': [<matplotlib.lines.Line2D at 0x289550ff3a0>,\n",
       "  <matplotlib.lines.Line2D at 0x2895503bca0>],\n",
       " 'caps': [<matplotlib.lines.Line2D at 0x28955114be0>,\n",
       "  <matplotlib.lines.Line2D at 0x28955114070>],\n",
       " 'boxes': [<matplotlib.lines.Line2D at 0x289550ff370>],\n",
       " 'medians': [<matplotlib.lines.Line2D at 0x28955043f70>],\n",
       " 'fliers': [<matplotlib.lines.Line2D at 0x28955063850>],\n",
       " 'means': []}"
      ]
     },
     "execution_count": 46,
     "metadata": {},
     "output_type": "execute_result"
    },
    {
     "data": {
      "image/png": "[encoded data removed]",
      "text/plain": [
       "<Figure size 432x288 with 1 Axes>"
      ]
     },
     "metadata": {
      "needs_background": "light"
     },
     "output_type": "display_data"
    }
   ],
   "source": [
    "plt.boxplot(yeniDizi*2)"
   ]
  },
  {
   "cell_type": "code",
   "execution_count": null,
   "id": "9708083b",
   "metadata": {},
   "outputs": [],
   "source": []
  }
 ],
 "metadata": {
  "kernelspec": {
   "display_name": "Python 3 (ipykernel)",
   "language": "python",
   "name": "python3"
  },
  "language_info": {
   "codemirror_mode": {
    "name": "ipython",
    "version": 3
   },
   "file_extension": ".py",
   "mimetype": "text/x-python",
   "name": "python",
   "nbconvert_exporter": "python",
   "pygments_lexer": "ipython3",
   "version": "3.9.7"
  },
  "widgets": {
   "application/vnd.jupyter.widget-state+json": {
    "state": {},
    "version_major": 2,
    "version_minor": 0
   }
  }
 },
 "nbformat": 4,
 "nbformat_minor": 5
}
