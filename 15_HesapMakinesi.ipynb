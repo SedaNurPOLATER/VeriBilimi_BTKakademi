{
 "cells": [
  {
   "cell_type": "code",
   "execution_count": 3,
   "id": "4b420530",
   "metadata": {},
   "outputs": [
    {
     "name": "stdout",
     "output_type": "stream",
     "text": [
      "ilk sayıyı giriniz : 15\n",
      "ikinci sayıyı giriniz : 15\n",
      "İşleminizi şeçiniz +-*/ : +\n"
     ]
    },
    {
     "data": {
      "text/plain": [
       "'15 + 15 = 30'"
      ]
     },
     "execution_count": 3,
     "metadata": {},
     "output_type": "execute_result"
    }
   ],
   "source": [
    "def hesapla(a,b,islem):\n",
    "    \n",
    "    if islem == \"+\":\n",
    "        sonuc = (str(a)) +\" + \" + str(b) + \" = \" + str(str(a+b))\n",
    "    if islem == \"-\":\n",
    "        sonuc = (str(a)) +\" - \" + str(b) + \" = \" + str(str(a-b))\n",
    "    if islem == \"*\":\n",
    "        sonuc = (str(a)) +\" * \" + str(b) + \" = \" + str(str(a*b))\n",
    "    if islem == \"/\":\n",
    "        sonuc = (str(a)) +\" / \" + str(b) + \" = \" + str(str(a/b))\n",
    "    return sonuc\n",
    "    \n",
    "a = int(input(\"ilk sayıyı giriniz : \"))\n",
    "b = int(input(\"ikinci sayıyı giriniz : \"))\n",
    "islem = input(\"İşleminizi şeçiniz +-*/ : \")\n",
    "hesapla(a,b,islem)"
   ]
  },
  {
   "cell_type": "code",
   "execution_count": null,
   "id": "df846e11",
   "metadata": {},
   "outputs": [],
   "source": []
  }
 ],
 "metadata": {
  "kernelspec": {
   "display_name": "Python 3 (ipykernel)",
   "language": "python",
   "name": "python3"
  },
  "language_info": {
   "codemirror_mode": {
    "name": "ipython",
    "version": 3
   },
   "file_extension": ".py",
   "mimetype": "text/x-python",
   "name": "python",
   "nbconvert_exporter": "python",
   "pygments_lexer": "ipython3",
   "version": "3.9.7"
  }
 },
 "nbformat": 4,
 "nbformat_minor": 5
}
