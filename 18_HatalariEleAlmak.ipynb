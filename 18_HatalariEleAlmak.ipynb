{
 "cells": [
  {
   "cell_type": "code",
   "execution_count": 1,
   "id": "5fc6d1d9",
   "metadata": {},
   "outputs": [],
   "source": [
    "def toplama(numara1, numara2):\n",
    "    return numara1 + numara2"
   ]
  },
  {
   "cell_type": "code",
   "execution_count": 2,
   "id": "2f237f9c",
   "metadata": {},
   "outputs": [
    {
     "name": "stdout",
     "output_type": "stream",
     "text": [
      "İlk numarayı giriniz: 12\n",
      "İkinci numarayı giriniz: 20\n"
     ]
    },
    {
     "data": {
      "text/plain": [
       "32"
      ]
     },
     "execution_count": 2,
     "metadata": {},
     "output_type": "execute_result"
    }
   ],
   "source": [
    "x = int(input(\"İlk numarayı giriniz: \"))\n",
    "y = int(input(\"İkinci numarayı giriniz: \"))\n",
    "toplama(x,y)"
   ]
  },
  {
   "cell_type": "markdown",
   "id": "05f0abe1",
   "metadata": {},
   "source": [
    "## try & except & else & finally"
   ]
  },
  {
   "cell_type": "code",
   "execution_count": 4,
   "id": "073f8689",
   "metadata": {},
   "outputs": [
    {
     "name": "stdout",
     "output_type": "stream",
     "text": [
      "Numaranızı giriniz: atıl\n",
      "Lütfen gerçekten numara giriniz\n",
      "finally çağırıldı\n",
      "Numaranızı giriniz: asdfgh\n",
      "Lütfen gerçekten numara giriniz\n",
      "finally çağırıldı\n",
      "Numaranızı giriniz: 10\n",
      "Teşekkürler\n",
      "finally çağırıldı\n"
     ]
    }
   ],
   "source": [
    "while True:\n",
    "    try:\n",
    "        benimInt : int(input(\"Numaranızı giriniz: \"))\n",
    "    except:\n",
    "        print(\"Lütfen gerçekten numara giriniz\")\n",
    "        continue\n",
    "    else:\n",
    "        print(\"Teşekkürler\")\n",
    "        break\n",
    "    finally:\n",
    "        print(\"finally çağırıldı\")"
   ]
  },
  {
   "cell_type": "code",
   "execution_count": null,
   "id": "bdf5f8a3",
   "metadata": {},
   "outputs": [],
   "source": []
  }
 ],
 "metadata": {
  "kernelspec": {
   "display_name": "Python 3 (ipykernel)",
   "language": "python",
   "name": "python3"
  },
  "language_info": {
   "codemirror_mode": {
    "name": "ipython",
    "version": 3
   },
   "file_extension": ".py",
   "mimetype": "text/x-python",
   "name": "python",
   "nbconvert_exporter": "python",
   "pygments_lexer": "ipython3",
   "version": "3.9.7"
  }
 },
 "nbformat": 4,
 "nbformat_minor": 5
}
