{
 "cells": [
  {
   "cell_type": "code",
   "execution_count": 1,
   "id": "32611cac",
   "metadata": {},
   "outputs": [],
   "source": [
    "benimListem = [0,1,2,3,4,5,6]"
   ]
  },
  {
   "cell_type": "code",
   "execution_count": 2,
   "id": "d12942f2",
   "metadata": {},
   "outputs": [
    {
     "name": "stdout",
     "output_type": "stream",
     "text": [
      "0\n",
      "1\n",
      "2\n",
      "3\n",
      "4\n",
      "5\n",
      "6\n"
     ]
    }
   ],
   "source": [
    "for numara in benimListem:\n",
    "    print(numara)"
   ]
  },
  {
   "cell_type": "code",
   "execution_count": 3,
   "id": "f4bf260c",
   "metadata": {},
   "outputs": [
    {
     "data": {
      "text/plain": [
       "range(0, 15)"
      ]
     },
     "execution_count": 3,
     "metadata": {},
     "output_type": "execute_result"
    }
   ],
   "source": [
    " range(15)"
   ]
  },
  {
   "cell_type": "code",
   "execution_count": 4,
   "id": "5dd22296",
   "metadata": {},
   "outputs": [
    {
     "data": {
      "text/plain": [
       "[0, 1, 2, 3, 4, 5, 6, 7, 8, 9, 10, 11, 12, 13, 14, 15, 16, 17, 18, 19]"
      ]
     },
     "execution_count": 4,
     "metadata": {},
     "output_type": "execute_result"
    }
   ],
   "source": [
    "list(range(20))"
   ]
  },
  {
   "cell_type": "code",
   "execution_count": 5,
   "id": "138be4a9",
   "metadata": {},
   "outputs": [
    {
     "name": "stdout",
     "output_type": "stream",
     "text": [
      "0\n",
      "5\n",
      "10\n",
      "15\n",
      "20\n",
      "25\n",
      "30\n",
      "35\n",
      "40\n",
      "45\n",
      "50\n",
      "55\n",
      "60\n",
      "65\n",
      "70\n"
     ]
    }
   ],
   "source": [
    "for numara in list(range(15)):\n",
    "    print(numara *5)"
   ]
  },
  {
   "cell_type": "code",
   "execution_count": 6,
   "id": "e2923711",
   "metadata": {},
   "outputs": [
    {
     "data": {
      "text/plain": [
       "[5, 9, 13, 17, 21]"
      ]
     },
     "execution_count": 6,
     "metadata": {},
     "output_type": "execute_result"
    }
   ],
   "source": [
    "list(range(5,22,4))"
   ]
  },
  {
   "cell_type": "code",
   "execution_count": 7,
   "id": "2e9ee641",
   "metadata": {},
   "outputs": [],
   "source": [
    "##enumerate"
   ]
  },
  {
   "cell_type": "code",
   "execution_count": 8,
   "id": "03b2afb3",
   "metadata": {},
   "outputs": [
    {
     "name": "stdout",
     "output_type": "stream",
     "text": [
      "güncel numara : 5 güncel index : 0\n",
      "güncel numara : 6 güncel index : 1\n",
      "güncel numara : 7 güncel index : 2\n",
      "güncel numara : 8 güncel index : 3\n",
      "güncel numara : 9 güncel index : 4\n",
      "güncel numara : 10 güncel index : 5\n",
      "güncel numara : 11 güncel index : 6\n",
      "güncel numara : 12 güncel index : 7\n",
      "güncel numara : 13 güncel index : 8\n",
      "güncel numara : 14 güncel index : 9\n"
     ]
    }
   ],
   "source": [
    "index = 0\n",
    "for numara in list(range(5,15)):\n",
    "    print(f\"güncel numara : {numara} güncel index : {index}\")\n",
    "    index = index + 1"
   ]
  },
  {
   "cell_type": "code",
   "execution_count": 10,
   "id": "8fbb616d",
   "metadata": {},
   "outputs": [
    {
     "name": "stdout",
     "output_type": "stream",
     "text": [
      "(0, 5)\n",
      "(1, 6)\n",
      "(2, 7)\n",
      "(3, 8)\n",
      "(4, 9)\n",
      "(5, 10)\n",
      "(6, 11)\n",
      "(7, 12)\n",
      "(8, 13)\n",
      "(9, 14)\n"
     ]
    }
   ],
   "source": [
    "for eleman in enumerate(list(range(5,15))):\n",
    "    print(eleman)"
   ]
  },
  {
   "cell_type": "code",
   "execution_count": 11,
   "id": "f5a81958",
   "metadata": {},
   "outputs": [
    {
     "name": "stdout",
     "output_type": "stream",
     "text": [
      "5\n",
      "6\n",
      "7\n",
      "8\n",
      "9\n",
      "10\n",
      "11\n",
      "12\n",
      "13\n",
      "14\n"
     ]
    }
   ],
   "source": [
    "for (index,numara) in enumerate(list(range(5,15))):\n",
    "    print(numara)"
   ]
  },
  {
   "cell_type": "markdown",
   "id": "8499cc38",
   "metadata": {},
   "source": [
    "## random\n"
   ]
  },
  {
   "cell_type": "code",
   "execution_count": 13,
   "id": "d47f2669",
   "metadata": {},
   "outputs": [],
   "source": [
    "from random import randint\n"
   ]
  },
  {
   "cell_type": "code",
   "execution_count": 14,
   "id": "46ee00cd",
   "metadata": {},
   "outputs": [
    {
     "data": {
      "text/plain": [
       "55"
      ]
     },
     "execution_count": 14,
     "metadata": {},
     "output_type": "execute_result"
    }
   ],
   "source": [
    "randint(0,100)"
   ]
  },
  {
   "cell_type": "code",
   "execution_count": 15,
   "id": "b544d536",
   "metadata": {},
   "outputs": [
    {
     "data": {
      "text/plain": [
       "19"
      ]
     },
     "execution_count": 15,
     "metadata": {},
     "output_type": "execute_result"
    }
   ],
   "source": [
    "randint(0,100)\n"
   ]
  },
  {
   "cell_type": "code",
   "execution_count": 16,
   "id": "2d268452",
   "metadata": {},
   "outputs": [
    {
     "data": {
      "text/plain": [
       "98"
      ]
     },
     "execution_count": 16,
     "metadata": {},
     "output_type": "execute_result"
    }
   ],
   "source": [
    "randint(0,100)"
   ]
  },
  {
   "cell_type": "code",
   "execution_count": 17,
   "id": "948bb164",
   "metadata": {},
   "outputs": [],
   "source": [
    "yeniListe = list(range(0,10))"
   ]
  },
  {
   "cell_type": "code",
   "execution_count": 18,
   "id": "f76a7208",
   "metadata": {},
   "outputs": [
    {
     "data": {
      "text/plain": [
       "[0, 1, 2, 3, 4, 5, 6, 7, 8, 9]"
      ]
     },
     "execution_count": 18,
     "metadata": {},
     "output_type": "execute_result"
    }
   ],
   "source": [
    "yeniListe\n"
   ]
  },
  {
   "cell_type": "code",
   "execution_count": 19,
   "id": "5370cd50",
   "metadata": {},
   "outputs": [],
   "source": [
    "from random import shuffle"
   ]
  },
  {
   "cell_type": "code",
   "execution_count": 20,
   "id": "868ca2d6",
   "metadata": {},
   "outputs": [],
   "source": [
    "shuffle(yeniListe)"
   ]
  },
  {
   "cell_type": "code",
   "execution_count": 21,
   "id": "a5cf3500",
   "metadata": {},
   "outputs": [
    {
     "data": {
      "text/plain": [
       "[6, 0, 7, 8, 5, 2, 3, 1, 4, 9]"
      ]
     },
     "execution_count": 21,
     "metadata": {},
     "output_type": "execute_result"
    }
   ],
   "source": [
    "yeniListe"
   ]
  },
  {
   "cell_type": "markdown",
   "id": "ba7afc5d",
   "metadata": {},
   "source": [
    "## zip"
   ]
  },
  {
   "cell_type": "code",
   "execution_count": 24,
   "id": "bbe9010c",
   "metadata": {},
   "outputs": [],
   "source": [
    "yemekListesi = [\"muz\",\"ananas\",\"elma\"]\n",
    "kaloriListesi = [100,200,300]\n",
    "gunListesi = [\"pazartesi\",\"salı\",\"çarşamba\"]"
   ]
  },
  {
   "cell_type": "code",
   "execution_count": 26,
   "id": "b00aa99f",
   "metadata": {},
   "outputs": [],
   "source": [
    "ziplenmisListe = list(zip(yemekListesi,kaloriListesi,gunListesi))"
   ]
  },
  {
   "cell_type": "code",
   "execution_count": 27,
   "id": "1e9e86f3",
   "metadata": {},
   "outputs": [
    {
     "data": {
      "text/plain": [
       "[('muz', 100, 'pazartesi'), ('ananas', 200, 'salı'), ('elma', 300, 'çarşamba')]"
      ]
     },
     "execution_count": 27,
     "metadata": {},
     "output_type": "execute_result"
    }
   ],
   "source": [
    "ziplenmisListe"
   ]
  },
  {
   "cell_type": "markdown",
   "id": "29f2e379",
   "metadata": {},
   "source": [
    "## listeler ileri seviye"
   ]
  },
  {
   "cell_type": "code",
   "execution_count": 31,
   "id": "619a5b29",
   "metadata": {},
   "outputs": [],
   "source": [
    "listeOrnegi = []\n",
    "benimString = \"atıl samancıoğlu\"\n",
    "\n",
    "for harf in benimString:\n",
    "    listeOrnegi.append(harf)"
   ]
  },
  {
   "cell_type": "code",
   "execution_count": 32,
   "id": "162b077c",
   "metadata": {},
   "outputs": [],
   "source": [
    "yeniString = \"atıl samancıoğlu\""
   ]
  },
  {
   "cell_type": "code",
   "execution_count": 33,
   "id": "312bbd90",
   "metadata": {},
   "outputs": [],
   "source": [
    "yeniListeOrnegı = [eleman for eleman in yeniString]"
   ]
  },
  {
   "cell_type": "code",
   "execution_count": 34,
   "id": "0f874276",
   "metadata": {},
   "outputs": [
    {
     "data": {
      "text/plain": [
       "['a',\n",
       " 't',\n",
       " 'ı',\n",
       " 'l',\n",
       " ' ',\n",
       " 's',\n",
       " 'a',\n",
       " 'm',\n",
       " 'a',\n",
       " 'n',\n",
       " 'c',\n",
       " 'ı',\n",
       " 'o',\n",
       " 'ğ',\n",
       " 'l',\n",
       " 'u']"
      ]
     },
     "execution_count": 34,
     "metadata": {},
     "output_type": "execute_result"
    }
   ],
   "source": [
    "yeniListeOrnegı"
   ]
  },
  {
   "cell_type": "code",
   "execution_count": 35,
   "id": "62265ed3",
   "metadata": {},
   "outputs": [],
   "source": [
    " ikinciListeOrnegı = [numara ** 5 for numara in list(range(0,10))\n",
    "                     ]"
   ]
  },
  {
   "cell_type": "code",
   "execution_count": 36,
   "id": "eee44684",
   "metadata": {},
   "outputs": [
    {
     "data": {
      "text/plain": [
       "[0, 1, 32, 243, 1024, 3125, 7776, 16807, 32768, 59049]"
      ]
     },
     "execution_count": 36,
     "metadata": {},
     "output_type": "execute_result"
    }
   ],
   "source": [
    "ikinciListeOrnegı"
   ]
  },
  {
   "cell_type": "code",
   "execution_count": null,
   "id": "21307c43",
   "metadata": {},
   "outputs": [],
   "source": []
  }
 ],
 "metadata": {
  "kernelspec": {
   "display_name": "Python 3 (ipykernel)",
   "language": "python",
   "name": "python3"
  },
  "language_info": {
   "codemirror_mode": {
    "name": "ipython",
    "version": 3
   },
   "file_extension": ".py",
   "mimetype": "text/x-python",
   "name": "python",
   "nbconvert_exporter": "python",
   "pygments_lexer": "ipython3",
   "version": "3.9.7"
  }
 },
 "nbformat": 4,
 "nbformat_minor": 5
}
