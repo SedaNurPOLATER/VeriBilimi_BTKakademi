{
 "cells": [
  {
   "cell_type": "code",
   "execution_count": 3,
   "id": "6b7f13d0",
   "metadata": {},
   "outputs": [
    {
     "name": "stdout",
     "output_type": "stream",
     "text": [
      "0\n",
      "1\n",
      "2\n",
      "3\n",
      "4\n",
      "5\n",
      "6\n",
      "7\n",
      "8\n",
      "9\n"
     ]
    }
   ],
   "source": [
    "x = 0\n",
    "while x <10:\n",
    "    print(x)\n",
    "    x = x+1"
   ]
  },
  {
   "cell_type": "code",
   "execution_count": 4,
   "id": "6dfb5e18",
   "metadata": {
    "scrolled": false
   },
   "outputs": [],
   "source": [
    "benimListem=[1,2,3,4,5]"
   ]
  },
  {
   "cell_type": "code",
   "execution_count": 5,
   "id": "235407c8",
   "metadata": {},
   "outputs": [
    {
     "data": {
      "text/plain": [
       "5"
      ]
     },
     "execution_count": 5,
     "metadata": {},
     "output_type": "execute_result"
    }
   ],
   "source": [
    "benimListem.pop()"
   ]
  },
  {
   "cell_type": "code",
   "execution_count": 6,
   "id": "c2de00b5",
   "metadata": {},
   "outputs": [
    {
     "data": {
      "text/plain": [
       "[1, 2, 3, 4]"
      ]
     },
     "execution_count": 6,
     "metadata": {},
     "output_type": "execute_result"
    }
   ],
   "source": [
    "benimListem"
   ]
  },
  {
   "cell_type": "code",
   "execution_count": 8,
   "id": "5bf3c4ff",
   "metadata": {},
   "outputs": [],
   "source": [
    "benimListem.append(5)"
   ]
  },
  {
   "cell_type": "code",
   "execution_count": 13,
   "id": "40d1bd19",
   "metadata": {},
   "outputs": [
    {
     "data": {
      "text/plain": [
       "[1, 2, 3, 4, 5]"
      ]
     },
     "execution_count": 13,
     "metadata": {},
     "output_type": "execute_result"
    }
   ],
   "source": [
    "benimListem"
   ]
  },
  {
   "cell_type": "code",
   "execution_count": 14,
   "id": "5541bcfe",
   "metadata": {},
   "outputs": [
    {
     "name": "stdout",
     "output_type": "stream",
     "text": [
      "3 hala listenin içerisinde\n",
      "3 hala listenin içerisinde\n",
      "3 hala listenin içerisinde\n"
     ]
    }
   ],
   "source": [
    "while 3 in benimListem:\n",
    "    print(\"3 hala listenin içerisinde\")\n",
    "    benimListem.pop()"
   ]
  },
  {
   "cell_type": "code",
   "execution_count": 15,
   "id": "785f096f",
   "metadata": {},
   "outputs": [],
   "source": [
    "numara = 0"
   ]
  },
  {
   "cell_type": "code",
   "execution_count": 16,
   "id": "a02398ed",
   "metadata": {},
   "outputs": [
    {
     "name": "stdout",
     "output_type": "stream",
     "text": [
      "0\n",
      "1\n",
      "2\n",
      "3\n"
     ]
    }
   ],
   "source": [
    "while numara < 5:\n",
    "    if numara == 4:\n",
    "        break\n",
    "    print(numara)\n",
    "    numara = numara + 1"
   ]
  },
  {
   "cell_type": "code",
   "execution_count": 22,
   "id": "c44d6a9e",
   "metadata": {},
   "outputs": [
    {
     "name": "stdout",
     "output_type": "stream",
     "text": [
      "yeniDegisken'in güncel değeri: yeniDegisken : 0 \n",
      "yeniDegisken'in güncel değeri: yeniDegisken : 1 \n",
      "yeniDegisken'in güncel değeri: yeniDegisken : 2 \n",
      "yeniDegisken'in güncel değeri: yeniDegisken : 3 \n",
      "yeniDegisken'in güncel değeri: yeniDegisken : 4 \n",
      "yeniDegisken'in güncel değeri: yeniDegisken : 5 \n",
      "yeniDegisken'in güncel değeri: yeniDegisken : 6 \n",
      "yeniDegisken'in güncel değeri: yeniDegisken : 7 \n",
      "yeniDegisken'in güncel değeri: yeniDegisken : 8 \n",
      "yeniDegisken'in güncel değeri: yeniDegisken : 9 \n",
      "yeniDegisken'in güncel değeri: yeniDegisken : 10 \n",
      "yeniDegisken'in güncel değeri: yeniDegisken : 11 \n",
      "yeniDegisken'in güncel değeri: yeniDegisken : 12 \n",
      "yeniDegisken'in güncel değeri: yeniDegisken : 13 \n",
      "yeniDegisken'in güncel değeri: yeniDegisken : 14 \n"
     ]
    }
   ],
   "source": [
    "yeniDegisken = 0\n",
    "while yeniDegisken < 15:\n",
    "   \n",
    "    #print(\"yeniDegisken'in güncel değeri: yeniDegisken \"+ str(yeniDegisken))\n",
    "    print(f\"yeniDegisken'in güncel değeri: yeniDegisken : {yeniDegisken} \")\n",
    "    yeniDegisken = yeniDegisken +1"
   ]
  },
  {
   "cell_type": "code",
   "execution_count": null,
   "id": "51fc70e6",
   "metadata": {},
   "outputs": [],
   "source": [
    " \n",
    "    "
   ]
  }
 ],
 "metadata": {
  "kernelspec": {
   "display_name": "Python 3 (ipykernel)",
   "language": "python",
   "name": "python3"
  },
  "language_info": {
   "codemirror_mode": {
    "name": "ipython",
    "version": 3
   },
   "file_extension": ".py",
   "mimetype": "text/x-python",
   "name": "python",
   "nbconvert_exporter": "python",
   "pygments_lexer": "ipython3",
   "version": "3.9.7"
  }
 },
 "nbformat": 4,
 "nbformat_minor": 5
}
